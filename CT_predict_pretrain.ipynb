{
  "nbformat": 4,
  "nbformat_minor": 0,
  "metadata": {
    "kernelspec": {
      "display_name": "Python 3",
      "language": "python",
      "name": "python3"
    },
    "language_info": {
      "codemirror_mode": {
        "name": "ipython",
        "version": 3
      },
      "file_extension": ".py",
      "mimetype": "text/x-python",
      "name": "python",
      "nbconvert_exporter": "python",
      "pygments_lexer": "ipython3",
      "version": "3.7.3"
    },
    "colab": {
      "provenance": []
    }
  },
  "cells": [
    {
      "cell_type": "code",
      "metadata": {
        "id": "TwCK6BrNlGeS",
        "colab": {
          "base_uri": "https://localhost:8080/",
          "height": 124
        },
        "outputId": "226a271d-1815-4612-c229-c8459bdd8d15"
      },
      "source": [
        "!apt install git+https://github.com/UCSD-AI4H/COVID-CT.git"
      ],
      "execution_count": null,
      "outputs": [
        {
          "output_type": "stream",
          "text": [
            "Reading package lists... Done\n",
            "Building dependency tree       \n",
            "Reading state information... Done\n",
            "E: Unable to locate package git+https://github.com/UCSD-AI4H\n",
            "E: Couldn't find any package by glob 'git+https://github.com/UCSD-AI4H'\n",
            "E: Couldn't find any package by regex 'git+https://github.com/UCSD-AI4H'\n"
          ],
          "name": "stdout"
        }
      ]
    },
    {
      "cell_type": "code",
      "metadata": {
        "id": "llm7fB5yhwf0",
        "colab": {
          "base_uri": "https://localhost:8080/",
          "height": 88
        },
        "outputId": "64323c22-d36d-4669-a6f1-3e7bac370bb8"
      },
      "source": [
        "!pip install git+https://github.com/UCSD-AI4H/COVID-CT.git"
      ],
      "execution_count": null,
      "outputs": [
        {
          "output_type": "stream",
          "text": [
            "Collecting git+https://github.com/UCSD-AI4H/COVID-CT.git\n",
            "  Cloning https://github.com/UCSD-AI4H/COVID-CT.git to /tmp/pip-req-build-rw54dpfv\n",
            "  Running command git clone -q https://github.com/UCSD-AI4H/COVID-CT.git /tmp/pip-req-build-rw54dpfv\n",
            "\u001b[31mERROR: Command errored out with exit status 1: python setup.py egg_info Check the logs for full command output.\u001b[0m\n"
          ],
          "name": "stdout"
        }
      ]
    },
    {
      "cell_type": "code",
      "metadata": {
        "id": "NwO0nBveVAL7"
      },
      "source": [
        "import torch\n",
        "import torchvision\n",
        "import torchvision.transforms as transforms\n",
        "import torchvision.datasets as datasets\n",
        "import torch.nn.functional as F\n",
        "import torch.nn as nn\n",
        "import torch.optim as optim\n",
        "import os\n",
        "import matplotlib.pyplot as plt\n",
        "from torch.optim.lr_scheduler import StepLR\n",
        "import numpy as np\n",
        "from datetime import datetime\n",
        "import pandas as pd\n",
        "import random\n",
        "from torchvision.datasets import ImageFolder\n",
        "import re\n",
        "from torch.utils.data import Dataset, DataLoader\n",
        "import matplotlib.pyplot as plt\n",
        "from PIL import Image\n",
        "from torch.optim.lr_scheduler import StepLR\n",
        "from sklearn.metrics import roc_auc_score\n",
        "from skimage.io import imread, imsave\n",
        "import skimage\n",
        "from PIL import ImageFile\n",
        "from PIL import Image\n",
        "\n",
        "torch.cuda.empty_cache()"
      ],
      "execution_count": null,
      "outputs": []
    },
    {
      "cell_type": "code",
      "metadata": {
        "id": "wu8G6mOsdxln"
      },
      "source": [
        "import re\n",
        "import torch\n",
        "import torch.nn as nn\n",
        "import torch.nn.functional as F\n",
        "import torch.utils.checkpoint as cp\n",
        "from collections import OrderedDict\n",
        "# from torchvision.models.utils import load_state_dict_from_url\n",
        "import errno\n",
        "import hashlib\n",
        "import os\n",
        "import re\n",
        "import shutil\n",
        "import sys\n",
        "import tempfile\n",
        "import torch\n",
        "import warnings\n",
        "import zipfile\n"
      ],
      "execution_count": null,
      "outputs": []
    },
    {
      "cell_type": "code",
      "metadata": {
        "id": "lcxb00z9d5Jw"
      },
      "source": [
        "if sys.version_info[0] == 2:\n",
        "    from urlparse import urlparse\n",
        "    import requests\n",
        "else:\n",
        "    from urllib.request import urlopen\n",
        "    from urllib.parse import urlparse  # noqa: F401\n",
        "\n",
        "try:\n",
        "    from tqdm import tqdm\n",
        "except ImportError:\n",
        "    # fake tqdm if it's not installed\n",
        "    class tqdm(object):\n",
        "\n",
        "        def __init__(self, total=None, disable=False,\n",
        "                     unit=None, unit_scale=None, unit_divisor=None):\n",
        "            self.total = total\n",
        "            self.disable = disable\n",
        "            self.n = 0\n",
        "            # ignore unit, unit_scale, unit_divisor; they're just for real tqdm\n",
        "\n",
        "        def update(self, n):\n",
        "            if self.disable:\n",
        "                return\n",
        "\n",
        "            self.n += n\n",
        "            if self.total is None:\n",
        "                sys.stderr.write(\"\\r{0:.1f} bytes\".format(self.n))\n",
        "            else:\n",
        "                sys.stderr.write(\"\\r{0:.1f}%\".format(100 * self.n / float(self.total)))\n",
        "            sys.stderr.flush()\n",
        "\n",
        "        def __enter__(self):\n",
        "            return self\n",
        "\n",
        "        def __exit__(self, exc_type, exc_val, exc_tb):\n",
        "            if self.disable:\n",
        "                return\n",
        "\n",
        "            sys.stderr.write('\\n')\n"
      ],
      "execution_count": null,
      "outputs": []
    },
    {
      "cell_type": "code",
      "metadata": {
        "id": "jp2aaWooeLQb"
      },
      "source": [
        "# matches bfd8deac from resnet18-bfd8deac.pth\n",
        "HASH_REGEX = re.compile(r'-([a-f0-9]*)\\.')\n",
        "\n",
        "MASTER_BRANCH = 'master'\n",
        "ENV_TORCH_HOME = 'TORCH_HOME'\n",
        "ENV_XDG_CACHE_HOME = 'XDG_CACHE_HOME'\n",
        "DEFAULT_CACHE_DIR = '~/.cache'\n",
        "VAR_DEPENDENCY = 'dependencies'\n",
        "MODULE_HUBCONF = 'hubconf.py'\n",
        "READ_DATA_CHUNK = 8192\n",
        "hub_dir = None\n"
      ],
      "execution_count": null,
      "outputs": []
    },
    {
      "cell_type": "code",
      "metadata": {
        "id": "9JsTSbOnecbv"
      },
      "source": [
        "# Copied from tools/shared/module_loader to be included in torch package\n",
        "def import_module(name, path):\n",
        "    if sys.version_info >= (3, 5):\n",
        "        import importlib.util\n",
        "        spec = importlib.util.spec_from_file_location(name, path)\n",
        "        module = importlib.util.module_from_spec(spec)\n",
        "        spec.loader.exec_module(module)\n",
        "        return module\n",
        "    elif sys.version_info >= (3, 0):\n",
        "        from importlib.machinery import SourceFileLoader\n",
        "        return SourceFileLoader(name, path).load_module()\n",
        "    else:\n",
        "        import imp\n",
        "        return imp.load_source(name, path)\n",
        "\n",
        "\n",
        "def _remove_if_exists(path):\n",
        "    if os.path.exists(path):\n",
        "        if os.path.isfile(path):\n",
        "            os.remove(path)\n",
        "        else:\n",
        "            shutil.rmtree(path)\n"
      ],
      "execution_count": null,
      "outputs": []
    },
    {
      "cell_type": "code",
      "metadata": {
        "id": "Rc2ByPFjecWz"
      },
      "source": [
        "def _git_archive_link(repo_owner, repo_name, branch):\n",
        "    return 'https://github.com/{}/{}/archive/{}.zip'.format(repo_owner, repo_name, branch)\n",
        "\n",
        "\n",
        "def _download_archive_zip(url, filename):\n",
        "    sys.stderr.write('Downloading: \\\"{}\\\" to {}\\n'.format(url, filename))\n",
        "    # We use a different API for python2 since urllib(2) doesn't recognize the CA\n",
        "    # certificates in older Python\n",
        "    if sys.version_info[0] == 2:\n",
        "        response = requests.get(url, stream=True).raw\n",
        "    else:\n",
        "        response = urlopen(url)\n",
        "    with open(filename, 'wb') as f:\n",
        "        while True:\n",
        "            data = response.read(READ_DATA_CHUNK)\n",
        "            if len(data) == 0:\n",
        "                break\n",
        "            f.write(data)\n"
      ],
      "execution_count": null,
      "outputs": []
    },
    {
      "cell_type": "code",
      "metadata": {
        "id": "Z8OgLP3EecQT"
      },
      "source": [
        "def _load_attr_from_module(module, func_name):\n",
        "    # Check if callable is defined in the module\n",
        "    if func_name not in dir(module):\n",
        "        return None\n",
        "    return getattr(module, func_name)\n",
        "\n",
        "\n",
        "def _get_torch_home():\n",
        "    torch_home = os.path.expanduser(\n",
        "        os.getenv(ENV_TORCH_HOME,\n",
        "                  os.path.join(os.getenv(ENV_XDG_CACHE_HOME, DEFAULT_CACHE_DIR), 'torch')))\n",
        "    return torch_home\n"
      ],
      "execution_count": null,
      "outputs": []
    },
    {
      "cell_type": "code",
      "metadata": {
        "id": "rPc8fiuVecKI"
      },
      "source": [
        "def _setup_hubdir():\n",
        "    global hub_dir\n",
        "    # Issue warning to move data if old env is set\n",
        "    if os.getenv('TORCH_HUB'):\n",
        "        warnings.warn('TORCH_HUB is deprecated, please use env TORCH_HOME instead')\n",
        "\n",
        "    if hub_dir is None:\n",
        "        torch_home = _get_torch_home()\n",
        "        hub_dir = os.path.join(torch_home, 'hub')\n",
        "\n",
        "    if not os.path.exists(hub_dir):\n",
        "        os.makedirs(hub_dir)\n",
        "\n",
        "\n",
        "def _parse_repo_info(github):\n",
        "    branch = MASTER_BRANCH\n",
        "    if ':' in github:\n",
        "        repo_info, branch = github.split(':')\n",
        "    else:\n",
        "        repo_info = github\n",
        "#     repo_owner, repo_name = repo_info.split('/')\n",
        "#     return repo_owner, repo_name, branch\n"
      ],
      "execution_count": null,
      "outputs": []
    },
    {
      "cell_type": "code",
      "metadata": {
        "id": "5bWlIZfnecDq"
      },
      "source": [
        "def _get_cache_or_reload(github, force_reload):\n",
        "    # Parse github repo information\n",
        "    repo_owner, repo_name, branch = _parse_repo_info(github)\n",
        "\n",
        "    # Github renames folder repo-v1.x.x to repo-1.x.x\n",
        "    # We don't know the repo name before downloading the zip file\n",
        "    # and inspect name from it.\n",
        "    # To check if cached repo exists, we need to normalize folder names.\n",
        "    repo_dir = os.path.join(hub_dir, '_'.join([repo_owner, repo_name, branch]))\n",
        "\n",
        "    use_cache = (not force_reload) and os.path.exists(repo_dir)\n",
        "\n",
        "    if use_cache:\n",
        "        sys.stderr.write('Using cache found in {}\\n'.format(repo_dir))\n",
        "    else:\n",
        "        cached_file = os.path.join(hub_dir, branch + '.zip')\n",
        "        _remove_if_exists(cached_file)\n",
        "\n",
        "        url = _git_archive_link(repo_owner, repo_name, branch)\n",
        "        _download_archive_zip(url, cached_file)\n",
        "\n",
        "        with zipfile.ZipFile(cached_file) as cached_zipfile:\n",
        "            extraced_repo_name = cached_zipfile.infolist()[0].filename\n",
        "            extracted_repo = os.path.join(hub_dir, extraced_repo_name)\n",
        "            _remove_if_exists(extracted_repo)\n",
        "            # Unzip the code and rename the base folder\n",
        "            cached_zipfile.extractall(hub_dir)\n",
        "\n",
        "        _remove_if_exists(cached_file)\n",
        "        _remove_if_exists(repo_dir)\n",
        "        shutil.move(extracted_repo, repo_dir)  # rename the repo\n",
        "\n",
        "    return repo_dir\n"
      ],
      "execution_count": null,
      "outputs": []
    },
    {
      "cell_type": "code",
      "metadata": {
        "id": "fRoST9r4eb8Q"
      },
      "source": [
        "def _check_module_exists(name):\n",
        "    if sys.version_info >= (3, 4):\n",
        "        import importlib.util\n",
        "        return importlib.util.find_spec(name) is not None\n",
        "    elif sys.version_info >= (3, 3):\n",
        "        # Special case for python3.3\n",
        "        import importlib.find_loader\n",
        "        return importlib.find_loader(name) is not None\n",
        "    else:\n",
        "        # NB: Python2.7 imp.find_module() doesn't respect PEP 302,\n",
        "        #     it cannot find a package installed as .egg(zip) file.\n",
        "        #     Here we use workaround from:\n",
        "        #     https://stackoverflow.com/questions/28962344/imp-find-module-which-supports-zipped-eggs?lq=1\n",
        "        #     Also imp doesn't handle hierarchical module names (names contains dots).\n",
        "        try:\n",
        "            # 1. Try imp.find_module(), which searches sys.path, but does\n",
        "            # not respect PEP 302 import hooks.\n",
        "            import imp\n",
        "            result = imp.find_module(name)\n",
        "            if result:\n",
        "                return True\n",
        "        except ImportError:\n",
        "            pass\n",
        "        path = sys.path\n",
        "        for item in path:\n",
        "            # 2. Scan path for import hooks. sys.path_importer_cache maps\n",
        "            # path items to optional \"importer\" objects, that implement\n",
        "            # find_module() etc.  Note that path must be a subset of\n",
        "            # sys.path for this to work.\n",
        "            importer = sys.path_importer_cache.get(item)\n",
        "            if importer:\n",
        "                try:\n",
        "                    result = importer.find_module(name, [item])\n",
        "                    if result:\n",
        "                        return True\n",
        "                except ImportError:\n",
        "                    pass\n",
        "        return False\n"
      ],
      "execution_count": null,
      "outputs": []
    },
    {
      "cell_type": "code",
      "metadata": {
        "id": "ZeiR-776eb0T"
      },
      "source": [
        "def _check_dependencies(m):\n",
        "    dependencies = _load_attr_from_module(m, VAR_DEPENDENCY)\n",
        "\n",
        "    if dependencies is not None:\n",
        "        missing_deps = [pkg for pkg in dependencies if not _check_module_exists(pkg)]\n",
        "        if len(missing_deps):\n",
        "            raise RuntimeError('Missing dependencies: {}'.format(', '.join(missing_deps)))\n"
      ],
      "execution_count": null,
      "outputs": []
    },
    {
      "cell_type": "code",
      "metadata": {
        "id": "JoW0HbLVe6V4"
      },
      "source": [
        "def _load_entry_from_hubconf(m, model):\n",
        "    if not isinstance(model, str):\n",
        "        raise ValueError('Invalid input: model should be a string of function name')\n",
        "\n",
        "    # Note that if a missing dependency is imported at top level of hubconf, it will\n",
        "    # throw before this function. It's a chicken and egg situation where we have to\n",
        "    # load hubconf to know what're the dependencies, but to import hubconf it requires\n",
        "    # a missing package. This is fine, Python will throw proper error message for users.\n",
        "    _check_dependencies(m)\n",
        "\n",
        "    func = _load_attr_from_module(m, model)\n",
        "\n",
        "    if func is None or not callable(func):\n",
        "        raise RuntimeError('Cannot find callable {} in hubconf'.format(model))\n",
        "\n",
        "    return func\n"
      ],
      "execution_count": null,
      "outputs": []
    },
    {
      "cell_type": "code",
      "metadata": {
        "id": "7UgDwVk6e6NL"
      },
      "source": [
        "def set_dir(d):\n",
        "    r\"\"\"\n",
        "    Optionally set hub_dir to a local dir to save downloaded models & weights.\n",
        "    If ``set_dir`` is not called, default path is ``$TORCH_HOME/hub`` where\n",
        "    environment variable ``$TORCH_HOME`` defaults to ``$XDG_CACHE_HOME/torch``.\n",
        "    ``$XDG_CACHE_HOME`` follows the X Design Group specification of the Linux\n",
        "    filesytem layout, with a default value ``~/.cache`` if the environment\n",
        "    variable is not set.\n",
        "    Args:\n",
        "        d: path to a local folder to save downloaded models & weights.\n",
        "    \"\"\"\n",
        "    global hub_dir\n",
        "    hub_dir = d\n"
      ],
      "execution_count": null,
      "outputs": []
    },
    {
      "cell_type": "code",
      "metadata": {
        "id": "PtXFBDd9e6D1"
      },
      "source": [
        "def list(github, force_reload=False):\n",
        "    r\"\"\"\n",
        "    List all entrypoints available in `github` hubconf.\n",
        "    Args:\n",
        "        github: Required, a string with format \"repo_owner/repo_name[:tag_name]\" with an optional\n",
        "            tag/branch. The default branch is `master` if not specified.\n",
        "            Example: 'pytorch/vision[:hub]'\n",
        "        force_reload: Optional, whether to discard the existing cache and force a fresh download.\n",
        "            Default is `False`.\n",
        "    Returns:\n",
        "        entrypoints: a list of available entrypoint names\n",
        "    Example:\n",
        "        >>> entrypoints = torch.hub.list('pytorch/vision', force_reload=True)\n",
        "    \"\"\"\n",
        "    # Setup hub_dir to save downloaded files\n",
        "    _setup_hubdir()\n",
        "\n",
        "    repo_dir = _get_cache_or_reload(github, force_reload)\n",
        "\n",
        "    sys.path.insert(0, repo_dir)\n",
        "\n",
        "    hub_module = import_module(MODULE_HUBCONF, repo_dir + '/' + MODULE_HUBCONF)\n",
        "\n",
        "    sys.path.remove(repo_dir)\n",
        "\n",
        "    # We take functions starts with '_' as internal helper functions\n",
        "    entrypoints = [f for f in dir(hub_module) if callable(getattr(hub_module, f)) and not f.startswith('_')]\n",
        "\n",
        "    return entrypoints\n"
      ],
      "execution_count": null,
      "outputs": []
    },
    {
      "cell_type": "code",
      "metadata": {
        "id": "Efj-Fo1-e582"
      },
      "source": [
        "def help(github, model, force_reload=False):\n",
        "    r\"\"\"\n",
        "    Show the docstring of entrypoint `model`.\n",
        "    Args:\n",
        "        github: Required, a string with format <repo_owner/repo_name[:tag_name]> with an optional\n",
        "            tag/branch. The default branch is `master` if not specified.\n",
        "            Example: 'pytorch/vision[:hub]'\n",
        "        model: Required, a string of entrypoint name defined in repo's hubconf.py\n",
        "        force_reload: Optional, whether to discard the existing cache and force a fresh download.\n",
        "            Default is `False`.\n",
        "    Example:\n",
        "        >>> print(torch.hub.help('pytorch/vision', 'resnet18', force_reload=True))\n",
        "    \"\"\"\n",
        "    # Setup hub_dir to save downloaded files\n",
        "    _setup_hubdir()\n",
        "\n",
        "    repo_dir = _get_cache_or_reload(github, force_reload)\n",
        "\n",
        "    sys.path.insert(0, repo_dir)\n",
        "\n",
        "    hub_module = import_module(MODULE_HUBCONF, repo_dir + '/' + MODULE_HUBCONF)\n",
        "\n",
        "    sys.path.remove(repo_dir)\n",
        "\n",
        "    entry = _load_entry_from_hubconf(hub_module, model)\n",
        "\n",
        "    return entry.__doc__\n"
      ],
      "execution_count": null,
      "outputs": []
    },
    {
      "cell_type": "code",
      "metadata": {
        "id": "uohpyFhpe5zS"
      },
      "source": [
        "def load(github, model, *args, **kwargs):\n",
        "    r\"\"\"\n",
        "    Load a model from a github repo, with pretrained weights.\n",
        "    Args:\n",
        "        github: Required, a string with format \"repo_owner/repo_name[:tag_name]\" with an optional\n",
        "            tag/branch. The default branch is `master` if not specified.\n",
        "            Example: 'pytorch/vision[:hub]'\n",
        "        model: Required, a string of entrypoint name defined in repo's hubconf.py\n",
        "        *args: Optional, the corresponding args for callable `model`.\n",
        "        force_reload: Optional, whether to force a fresh download of github repo unconditionally.\n",
        "            Default is `False`.\n",
        "        **kwargs: Optional, the corresponding kwargs for callable `model`.\n",
        "    Returns:\n",
        "        a single model with corresponding pretrained weights.\n",
        "    Example:\n",
        "        >>> model = torch.hub.load('pytorch/vision', 'resnet50', pretrained=True)\n",
        "    \"\"\"\n",
        "    # Setup hub_dir to save downloaded files\n",
        "    _setup_hubdir()\n",
        "\n",
        "    force_reload = kwargs.get('force_reload', False)\n",
        "    kwargs.pop('force_reload', None)\n",
        "\n",
        "    repo_dir = _get_cache_or_reload(github, force_reload)\n",
        "\n",
        "    sys.path.insert(0, repo_dir)\n",
        "\n",
        "    hub_module = import_module(MODULE_HUBCONF, repo_dir + '/' + MODULE_HUBCONF)\n",
        "\n",
        "    entry = _load_entry_from_hubconf(hub_module, model)\n",
        "\n",
        "    model = entry(*args, **kwargs)\n",
        "\n",
        "    sys.path.remove(repo_dir)\n",
        "\n",
        "    return model\n"
      ],
      "execution_count": null,
      "outputs": []
    },
    {
      "cell_type": "code",
      "metadata": {
        "id": "78dsSnRFe5pr"
      },
      "source": [
        "def _download_url_to_file(url, dst, hash_prefix, progress):\n",
        "    file_size = None\n",
        "    # We use a different API for python2 since urllib(2) doesn't recognize the CA\n",
        "    # certificates in older Python\n",
        "    if sys.version_info[0] == 2:\n",
        "        response = requests.get(url, stream=True)\n",
        "\n",
        "        content_length = response.headers['Content-Length']\n",
        "        file_size = content_length\n",
        "        u = response.raw\n",
        "    else:\n",
        "        u = urlopen(url)\n",
        "\n",
        "        meta = u.info()\n",
        "        if hasattr(meta, 'getheaders'):\n",
        "            content_length = meta.getheaders(\"Content-Length\")\n",
        "        else:\n",
        "            content_length = meta.get_all(\"Content-Length\")\n",
        "        if content_length is not None and len(content_length) > 0:\n",
        "            file_size = int(content_length[0])\n",
        "\n",
        "    # We deliberately save it in a temp file and move it after\n",
        "    # download is complete. This prevents a local working checkpoint\n",
        "    # being overriden by a broken download.\n",
        "    dst_dir = os.path.dirname(dst)\n",
        "    f = tempfile.NamedTemporaryFile(delete=False, dir=dst_dir)\n",
        "\n",
        "    try:\n",
        "        if hash_prefix is not None:\n",
        "            sha256 = hashlib.sha256()\n",
        "        with tqdm(total=file_size, disable=not progress,\n",
        "                  unit='B', unit_scale=True, unit_divisor=1024) as pbar:\n",
        "            while True:\n",
        "                buffer = u.read(8192)\n",
        "                if len(buffer) == 0:\n",
        "                    break\n",
        "                f.write(buffer)\n",
        "                if hash_prefix is not None:\n",
        "                    sha256.update(buffer)\n",
        "                pbar.update(len(buffer))\n",
        "\n",
        "        f.close()\n",
        "        if hash_prefix is not None:\n",
        "            digest = sha256.hexdigest()\n",
        "            if digest[:len(hash_prefix)] != hash_prefix:\n",
        "                raise RuntimeError('invalid hash value (expected \"{}\", got \"{}\")'\n",
        "                                   .format(hash_prefix, digest))\n",
        "        shutil.move(f.name, dst)\n",
        "    finally:\n",
        "        f.close()\n",
        "        if os.path.exists(f.name):\n",
        "            os.remove(f.name)\n"
      ],
      "execution_count": null,
      "outputs": []
    },
    {
      "cell_type": "code",
      "metadata": {
        "id": "SGtvyDvHe5dx"
      },
      "source": [
        "__all__ = ['DenseNet', 'densenet121', 'densenet169', 'densenet201', 'densenet161']\n",
        "\n",
        "model_urls = {\n",
        "    'densenet121': 'https://download.pytorch.org/models/densenet121-a639ec97.pth',\n",
        "    'densenet169': 'https://download.pytorch.org/models/densenet169-b2777c0a.pth',\n",
        "    'densenet201': 'https://download.pytorch.org/models/densenet201-c1103571.pth',\n",
        "    'densenet161': 'https://download.pytorch.org/models/densenet161-8d451a50.pth',\n",
        "}\n",
        "\n",
        "\n",
        "def _bn_function_factory(norm, relu, conv):\n",
        "    def bn_function(*inputs):\n",
        "        concated_features = torch.cat(inputs, 1)\n",
        "        bottleneck_output = conv(relu(norm(concated_features)))\n",
        "        return bottleneck_output\n",
        "\n",
        "    return bn_function\n"
      ],
      "execution_count": null,
      "outputs": []
    },
    {
      "cell_type": "code",
      "metadata": {
        "id": "GoKhrEBte5TA"
      },
      "source": [
        "class _DenseLayer(nn.Sequential):\n",
        "    def __init__(self, num_input_features, growth_rate, bn_size, drop_rate, memory_efficient=False):\n",
        "        super(_DenseLayer, self).__init__()\n",
        "        self.add_module('norm1', nn.BatchNorm2d(num_input_features)),\n",
        "        self.add_module('relu1', nn.ReLU(inplace=True)),\n",
        "        self.add_module('conv1', nn.Conv2d(num_input_features, bn_size *\n",
        "                                           growth_rate, kernel_size=1, stride=1,\n",
        "                                           bias=False)),\n",
        "        self.add_module('norm2', nn.BatchNorm2d(bn_size * growth_rate)),\n",
        "        self.add_module('relu2', nn.ReLU(inplace=True)),\n",
        "        self.add_module('conv2', nn.Conv2d(bn_size * growth_rate, growth_rate,\n",
        "                                           kernel_size=3, stride=1, padding=1,\n",
        "                                           bias=False)),\n",
        "        self.drop_rate = drop_rate\n",
        "        self.memory_efficient = memory_efficient\n",
        "\n",
        "    def forward(self, *prev_features):\n",
        "        bn_function = _bn_function_factory(self.norm1, self.relu1, self.conv1)\n",
        "        if self.memory_efficient and any(prev_feature.requires_grad for prev_feature in prev_features):\n",
        "            bottleneck_output = cp.checkpoint(bn_function, *prev_features)\n",
        "        else:\n",
        "            bottleneck_output = bn_function(*prev_features)\n",
        "        new_features = self.conv2(self.relu2(self.norm2(bottleneck_output)))\n",
        "        if self.drop_rate > 0:\n",
        "            new_features = F.dropout(new_features, p=self.drop_rate,\n",
        "                                     training=self.training)\n",
        "        return new_features\n"
      ],
      "execution_count": null,
      "outputs": []
    },
    {
      "cell_type": "code",
      "metadata": {
        "id": "XPf3W-2DfY2k"
      },
      "source": [
        "class _DenseBlock(nn.Module):\n",
        "    def __init__(self, num_layers, num_input_features, bn_size, growth_rate, drop_rate, memory_efficient=False):\n",
        "        super(_DenseBlock, self).__init__()\n",
        "        for i in range(num_layers):\n",
        "            layer = _DenseLayer(\n",
        "                num_input_features + i * growth_rate,\n",
        "                growth_rate=growth_rate,\n",
        "                bn_size=bn_size,\n",
        "                drop_rate=drop_rate,\n",
        "                memory_efficient=memory_efficient,\n",
        "            )\n",
        "            self.add_module('denselayer%d' % (i + 1), layer)\n",
        "\n",
        "    def forward(self, init_features):\n",
        "        features = [init_features]\n",
        "        for name, layer in self.named_children():\n",
        "            new_features = layer(*features)\n",
        "            features.append(new_features)\n",
        "        return torch.cat(features, 1)\n"
      ],
      "execution_count": null,
      "outputs": []
    },
    {
      "cell_type": "code",
      "metadata": {
        "id": "reLTJGX7fYwQ"
      },
      "source": [
        "class _Transition(nn.Sequential):\n",
        "    def __init__(self, num_input_features, num_output_features):\n",
        "        super(_Transition, self).__init__()\n",
        "        self.add_module('norm', nn.BatchNorm2d(num_input_features))\n",
        "        self.add_module('relu', nn.ReLU(inplace=True))\n",
        "        self.add_module('conv', nn.Conv2d(num_input_features, num_output_features,\n",
        "                                          kernel_size=1, stride=1, bias=False))\n",
        "        self.add_module('pool', nn.AvgPool2d(kernel_size=2, stride=2))\n",
        "\n",
        "\n",
        "class DenseNet(nn.Module):\n",
        "    r\"\"\"Densenet-BC model class, based on\n",
        "    `\"Densely Connected Convolutional Networks\" <https://arxiv.org/pdf/1608.06993.pdf>`_\n",
        "\n",
        "    Args:\n",
        "        growth_rate (int) - how many filters to add each layer (`k` in paper)\n",
        "        block_config (list of 4 ints) - how many layers in each pooling block\n",
        "        num_init_features (int) - the number of filters to learn in the first convolution layer\n",
        "        bn_size (int) - multiplicative factor for number of bottle neck layers\n",
        "          (i.e. bn_size * k features in the bottleneck layer)\n",
        "        drop_rate (float) - dropout rate after each dense layer\n",
        "        num_classes (int) - number of classification classes\n",
        "        memory_efficient (bool) - If True, uses checkpointing. Much more memory efficient,\n",
        "          but slower. Default: *False*. See `\"paper\" <https://arxiv.org/pdf/1707.06990.pdf>`_\n",
        "    \"\"\"\n",
        "\n",
        "    def __init__(self, growth_rate=32, block_config=(6, 12, 24, 16),\n",
        "                 num_init_features=64, bn_size=4, drop_rate=0, num_classes=4, memory_efficient=False):\n",
        "\n",
        "        super(DenseNet, self).__init__()\n",
        "\n",
        "        # First convolution\n",
        "        self.features = nn.Sequential(OrderedDict([\n",
        "            ('conv0', nn.Conv2d(3, num_init_features, kernel_size=7, stride=2,\n",
        "                                padding=3, bias=False)),\n",
        "            ('norm0', nn.BatchNorm2d(num_init_features)),\n",
        "            ('relu0', nn.ReLU(inplace=True)),\n",
        "            ('pool0', nn.MaxPool2d(kernel_size=3, stride=2, padding=1)),\n",
        "        ]))\n",
        "\n",
        "        # Each denseblock\n",
        "        num_features = num_init_features\n",
        "        for i, num_layers in enumerate(block_config):\n",
        "            block = _DenseBlock(\n",
        "                num_layers=num_layers,\n",
        "                num_input_features=num_features,\n",
        "                bn_size=bn_size,\n",
        "                growth_rate=growth_rate,\n",
        "                drop_rate=drop_rate,\n",
        "                memory_efficient=memory_efficient\n",
        "            )\n",
        "            self.features.add_module('denseblock%d' % (i + 1), block)\n",
        "            num_features = num_features + num_layers * growth_rate\n",
        "            if i != len(block_config) - 1:\n",
        "                trans = _Transition(num_input_features=num_features,\n",
        "                                    num_output_features=num_features // 2)\n",
        "                self.features.add_module('transition%d' % (i + 1), trans)\n",
        "                num_features = num_features // 2\n",
        "\n",
        "        # Final batch norm\n",
        "        self.features.add_module('norm5', nn.BatchNorm2d(num_features))\n",
        "\n",
        "        # Linear layer\n",
        "        self.classifier = nn.Linear(num_features, num_classes)\n",
        "        self.num_features = num_features\n",
        "\n",
        "        # Official init from torch repo.\n",
        "        for m in self.modules():\n",
        "            if isinstance(m, nn.Conv2d):\n",
        "                nn.init.kaiming_normal_(m.weight)\n",
        "            elif isinstance(m, nn.BatchNorm2d):\n",
        "                nn.init.constant_(m.weight, 1)\n",
        "                nn.init.constant_(m.bias, 0)\n",
        "            elif isinstance(m, nn.Linear):\n",
        "                nn.init.constant_(m.bias, 0)\n",
        "    def change_cls_number(self,num_classes):\n",
        "        print(\"Changing Full Connected\")\n",
        "        self.classifier = nn.Linear(self.num_features, num_classes)\n",
        "\n",
        "    def forward(self, x):\n",
        "        features = self.features(x)\n",
        "        out = F.relu(features, inplace=True)\n",
        "        out = F.adaptive_avg_pool2d(out, (1, 1))\n",
        "        out = torch.flatten(out, 1)\n",
        "        out = self.classifier(out)\n",
        "        return out\n"
      ],
      "execution_count": null,
      "outputs": []
    },
    {
      "cell_type": "code",
      "metadata": {
        "id": "C-JT63kifYpa"
      },
      "source": [
        "def load_state_dict_from_url(url, model_dir=None, map_location=None, progress=True):\n",
        "    r\"\"\"Loads the Torch serialized object at the given URL.\n",
        "    If the object is already present in `model_dir`, it's deserialized and\n",
        "    returned. The filename part of the URL should follow the naming convention\n",
        "    ``filename-<sha256>.ext`` where ``<sha256>`` is the first eight or more\n",
        "    digits of the SHA256 hash of the contents of the file. The hash is used to\n",
        "    ensure unique names and to verify the contents of the file.\n",
        "    The default value of `model_dir` is ``$TORCH_HOME/checkpoints`` where\n",
        "    environment variable ``$TORCH_HOME`` defaults to ``$XDG_CACHE_HOME/torch``.\n",
        "    ``$XDG_CACHE_HOME`` follows the X Design Group specification of the Linux\n",
        "    filesytem layout, with a default value ``~/.cache`` if not set.\n",
        "    Args:\n",
        "        url (string): URL of the object to download\n",
        "        model_dir (string, optional): directory in which to save the object\n",
        "        map_location (optional): a function or a dict specifying how to remap storage locations (see torch.load)\n",
        "        progress (bool, optional): whether or not to display a progress bar to stderr\n",
        "    Example:\n",
        "        >>> state_dict = torch.hub.load_state_dict_from_url('https://s3.amazonaws.com/pytorch/models/resnet18-5c106cde.pth')\n",
        "    \"\"\"\n",
        "    # Issue warning to move data if old env is set\n",
        "    if os.getenv('TORCH_MODEL_ZOO'):\n",
        "        warnings.warn('TORCH_MODEL_ZOO is deprecated, please use env TORCH_HOME instead')\n",
        "\n",
        "    if model_dir is None:\n",
        "        torch_home = _get_torch_home()\n",
        "        model_dir = os.path.join(torch_home, 'checkpoints')\n",
        "\n",
        "    try:\n",
        "        os.makedirs(model_dir)\n",
        "    except OSError as e:\n",
        "        if e.errno == errno.EEXIST:\n",
        "            # Directory already exists, ignore.\n",
        "            pass\n",
        "        else:\n",
        "            # Unexpected OSError, re-raise.\n",
        "            raise\n",
        "\n",
        "    parts = urlparse(url)\n",
        "    filename = os.path.basename(parts.path)\n",
        "    cached_file = os.path.join(model_dir, filename)\n",
        "    if not os.path.exists(cached_file):\n",
        "        sys.stderr.write('Downloading: \"{}\" to {}\\n'.format(url, cached_file))\n",
        "        hash_prefix = HASH_REGEX.search(filename).group(1)\n",
        "        _download_url_to_file(url, cached_file, hash_prefix, progress=progress)\n",
        "    return torch.load(cached_file, map_location=map_location)\n"
      ],
      "execution_count": null,
      "outputs": []
    },
    {
      "cell_type": "code",
      "metadata": {
        "id": "zLcXetYTe5MS"
      },
      "source": [
        "def _load_state_dict(model, model_url, progress):\n",
        "    # '.'s are no longer allowed in module names, but previous _DenseLayer\n",
        "    # has keys 'norm.1', 'relu.1', 'conv.1', 'norm.2', 'relu.2', 'conv.2'.\n",
        "    # They are also in the checkpoints in model_urls. This pattern is used\n",
        "    # to find such keys.\n",
        "    pattern = re.compile(\n",
        "        r'^(.*denselayer\\d+\\.(?:norm|relu|conv))\\.((?:[12])\\.(?:weight|bias|running_mean|running_var))$')\n",
        "\n",
        "    state_dict = load_state_dict_from_url(model_url, progress=progress)\n",
        "    for key in list(state_dict.keys()):\n",
        "        res = pattern.match(key)\n",
        "        if res:\n",
        "            new_key = res.group(1) + res.group(2)\n",
        "            state_dict[new_key] = state_dict[key]\n",
        "            del state_dict[key]\n",
        "    model.load_state_dict(state_dict)\n",
        "\n",
        "\n",
        "def _densenet(arch, growth_rate, block_config, num_init_features, pretrained, progress,\n",
        "              **kwargs):\n",
        "\n",
        "    if pretrained:\n",
        "        number_cls = kwargs['num_classes']\n",
        "        kwargs['num_classes'] = 1000\n",
        "        model = DenseNet(growth_rate, block_config, num_init_features, **kwargs)\n",
        "        _load_state_dict(model, model_urls[arch], progress)\n",
        "        model.change_cls_number(number_cls)\n",
        "    else:\n",
        "        model = DenseNet(growth_rate, block_config, num_init_features, **kwargs)\n",
        "    return model\n"
      ],
      "execution_count": null,
      "outputs": []
    },
    {
      "cell_type": "code",
      "metadata": {
        "id": "ijSaoXtPe5E1"
      },
      "source": [
        "def densenet121(pretrained=False, progress=True, **kwargs):\n",
        "    r\"\"\"Densenet-121 model from\n",
        "    `\"Densely Connected Convolutional Networks\" <https://arxiv.org/pdf/1608.06993.pdf>`_\n",
        "\n",
        "    Args:\n",
        "        pretrained (bool): If True, returns a model pre-trained on ImageNet\n",
        "        progress (bool): If True, displays a progress bar of the download to stderr\n",
        "        memory_efficient (bool) - If True, uses checkpointing. Much more memory efficient,\n",
        "          but slower. Default: *False*. See `\"paper\" <https://arxiv.org/pdf/1707.06990.pdf>`_\n",
        "    \"\"\"\n",
        "    return _densenet('densenet121', 32, (6, 12, 24, 16), 64, pretrained, progress,\n",
        "                     **kwargs)\n",
        "\n",
        "\n",
        "def densenet161(pretrained=False, progress=True, **kwargs):\n",
        "    r\"\"\"Densenet-161 model from\n",
        "    `\"Densely Connected Convolutional Networks\" <https://arxiv.org/pdf/1608.06993.pdf>`_\n",
        "\n",
        "    Args:\n",
        "        pretrained (bool): If True, returns a model pre-trained on ImageNet\n",
        "        progress (bool): If True, displays a progress bar of the download to stderr\n",
        "        memory_efficient (bool) - If True, uses checkpointing. Much more memory efficient,\n",
        "          but slower. Default: *False*. See `\"paper\" <https://arxiv.org/pdf/1707.06990.pdf>`_\n",
        "    \"\"\"\n",
        "    return _densenet('densenet161', 48, (6, 12, 36, 24), 96, pretrained, progress,\n",
        "                     **kwargs)\n",
        "\n",
        "\n",
        "def densenet169(pretrained=False, progress=True, **kwargs):\n",
        "    r\"\"\"Densenet-169 model from\n",
        "    `\"Densely Connected Convolutional Networks\" <https://arxiv.org/pdf/1608.06993.pdf>`_\n",
        "\n",
        "    Args:\n",
        "        pretrained (bool): If True, returns a model pre-trained on ImageNet\n",
        "        progress (bool): If True, displays a progress bar of the download to stderr\n",
        "        memory_efficient (bool) - If True, uses checkpointing. Much more memory efficient,\n",
        "          but slower. Default: *False*. See `\"paper\" <https://arxiv.org/pdf/1707.06990.pdf>`_\n",
        "    \"\"\"\n",
        "    return _densenet('densenet169', 32, (6, 12, 32, 32), 64, pretrained, progress,\n",
        "                     **kwargs)\n",
        "\n",
        "\n",
        "def densenet201(pretrained=False, progress=True, **kwargs):\n",
        "    r\"\"\"Densenet-201 model from\n",
        "    `\"Densely Connected Convolutional Networks\" <https://arxiv.org/pdf/1608.06993.pdf>`_\n",
        "\n",
        "    Args:\n",
        "        pretrained (bool): If True, returns a model pre-trained on ImageNet\n",
        "        progress (bool): If True, displays a progress bar of the download to stderr\n",
        "        memory_efficient (bool) - If True, uses checkpointing. Much more memory efficient,\n",
        "          but slower. Default: *False*. See `\"paper\" <https://arxiv.org/pdf/1707.06990.pdf>`_\n",
        "    \"\"\"\n",
        "    return _densenet('densenet201', 32, (6, 12, 48, 32), 64, pretrained, progress,\n",
        "                     **kwargs)\n"
      ],
      "execution_count": null,
      "outputs": []
    },
    {
      "cell_type": "markdown",
      "metadata": {
        "id": "vwv684KZd5Dg"
      },
      "source": [
        "# matches bfd8deac from resnet18-bfd8deac.pth\n",
        "HASH_REGEX = re.compile(r'-([a-f0-9]*)\\.')\n",
        "\n",
        "MASTER_BRANCH = 'master'\n",
        "ENV_TORCH_HOME = 'TORCH_HOME'\n",
        "ENV_XDG_CACHE_HOME = 'XDG_CACHE_HOME'\n",
        "DEFAULT_CACHE_DIR = '~/.cache'\n",
        "VAR_DEPENDENCY = 'dependencies'\n",
        "MODULE_HUBCONF = 'hubconf.py'\n",
        "READ_DATA_CHUNK = 8192\n",
        "hub_dir = None\n"
      ]
    },
    {
      "cell_type": "code",
      "metadata": {
        "id": "HgSuNK4vVYD0",
        "colab": {
          "base_uri": "https://localhost:8080/",
          "height": 126
        },
        "outputId": "254e0f56-fa14-4ab3-d980-3048be0985eb"
      },
      "source": [
        "from google.colab import drive\n",
        "drive.mount('/content/drive')"
      ],
      "execution_count": null,
      "outputs": [
        {
          "output_type": "stream",
          "text": [
            "Go to this URL in a browser: https://accounts.google.com/o/oauth2/auth?client_id=947318989803-6bn6qk8qdgf4n4g3pfee6491hc0brc4i.apps.googleusercontent.com&redirect_uri=urn%3aietf%3awg%3aoauth%3a2.0%3aoob&response_type=code&scope=email%20https%3a%2f%2fwww.googleapis.com%2fauth%2fdocs.test%20https%3a%2f%2fwww.googleapis.com%2fauth%2fdrive%20https%3a%2f%2fwww.googleapis.com%2fauth%2fdrive.photos.readonly%20https%3a%2f%2fwww.googleapis.com%2fauth%2fpeopleapi.readonly\n",
            "\n",
            "Enter your authorization code:\n",
            "··········\n",
            "Mounted at /content/drive\n"
          ],
          "name": "stdout"
        }
      ]
    },
    {
      "cell_type": "code",
      "metadata": {
        "id": "zizT6It7VAMK"
      },
      "source": [
        "# normalize = transforms.Normalize(mean=[0.485, 0.456, 0.406], std=[0.229, 0.224, 0.225])\n",
        "\n",
        "########## Mean and std are calculated from the train dataset\n",
        "normalize = transforms.Normalize(mean=[0.45271412, 0.45271412, 0.45271412],\n",
        "                                     std=[0.33165374, 0.33165374, 0.33165374])\n",
        "train_transformer = transforms.Compose([\n",
        "    transforms.Resize(256),\n",
        "    transforms.RandomResizedCrop((224),scale=(0.5,1.0)),\n",
        "    transforms.RandomHorizontalFlip(),\n",
        "#     transforms.RandomRotation(90),\n",
        "    # random brightness and random contrast\n",
        "    transforms.ColorJitter(brightness=0.2, contrast=0.2),\n",
        "    transforms.ToTensor(),\n",
        "    normalize\n",
        "])\n",
        "\n",
        "val_transformer = transforms.Compose([\n",
        "#     transforms.Resize(224),\n",
        "#     transforms.CenterCrop(224),\n",
        "    transforms.Resize((224,224)),\n",
        "    transforms.ToTensor(),\n",
        "    normalize\n",
        "])"
      ],
      "execution_count": null,
      "outputs": []
    },
    {
      "cell_type": "code",
      "metadata": {
        "id": "ijVSZqz4VAMT",
        "colab": {
          "base_uri": "https://localhost:8080/",
          "height": 35
        },
        "outputId": "4eb5f21b-ec52-4e3e-dcf5-ef2567179fcb"
      },
      "source": [
        "'''Load LUNA dataset'''\n",
        "\n",
        "# import h5py\n",
        "# import numpy as np\n",
        "# import skimage\n",
        "# import torch\n",
        "# from torch.utils.data import DataLoader\n",
        "# from torch.utils.data import TensorDataset\n",
        "# f = h5py.File('all_patches.hdf5','r')\n",
        "# f.keys()\n",
        "# img = f['ct_slices'][:]\n",
        "# label = f['slice_class'][:]\n",
        "# f.close()\n",
        "# print(np.shape(img))\n",
        "# print('b',np.shape(label))\n",
        "# skimage.io.imshow(img[120])\n",
        "# print(label[120])\n",
        "# batchsize=4\n",
        "\n",
        "# class LungDataset(Dataset):\n",
        "#     def __init__(self, img, label, transform=None):\n",
        "#         self.img = img\n",
        "#         self.label = label\n",
        "#         self.transform = transform\n",
        "\n",
        "#     def __len__(self):\n",
        "#         return len(self.img)\n",
        "\n",
        "#     def __getitem__(self, idx):\n",
        "#         if torch.is_tensor(idx):\n",
        "#             idx = idx.tolist()\n",
        "\n",
        "#         image = PIL_image = Image.fromarray(self.img[idx]).convert('RGB')\n",
        "\n",
        "#         if self.transform:\n",
        "#             image = self.transform(image)\n",
        "#         sample = {'img': image,\n",
        "#                   'label': int(self.label[idx])}\n",
        "#         return sample\n",
        "\n",
        "# trainset = LungDataset(img, label, transform= val_transformer)\n",
        "# valset = LungDataset(img, label, transform= val_transformer)\n",
        "# train_loader = DataLoader(trainset, batch_size=batchsize, drop_last=False, shuffle=True)\n",
        "# val_loader = DataLoader(valset, batch_size=batchsize, drop_last=False, shuffle=False)\n",
        "# modelname = 'medical_transfer'\n"
      ],
      "execution_count": null,
      "outputs": [
        {
          "output_type": "execute_result",
          "data": {
            "text/plain": [
              "'Load LUNA dataset'"
            ]
          },
          "metadata": {
            "tags": []
          },
          "execution_count": 6
        }
      ]
    },
    {
      "cell_type": "code",
      "metadata": {
        "id": "0pomuikLVAMb",
        "colab": {
          "base_uri": "https://localhost:8080/",
          "height": 70
        },
        "outputId": "5773db84-098a-4305-ca66-27d3d89916b1"
      },
      "source": [
        "batchsize=4\n",
        "def read_txt(txt_path):\n",
        "    with open(txt_path) as f:\n",
        "        lines = f.readlines()\n",
        "    txt_data = [line.strip() for line in lines]\n",
        "    return txt_data\n",
        "\n",
        "class CovidCTDataset(Dataset):\n",
        "    def __init__(self, root_dir, txt_COVID, txt_NonCOVID, transform=None):\n",
        "        \"\"\"\n",
        "        Args:\n",
        "            txt_path (string): Path to the txt file with annotations.\n",
        "            root_dir (string): Directory with all the images.\n",
        "            transform (callable, optional): Optional transform to be applied\n",
        "                on a sample.\n",
        "        File structure:\n",
        "        - root_dir\n",
        "            - CT_COVID\n",
        "                - img1.png\n",
        "                - img2.png\n",
        "                - ......\n",
        "            - CT_NonCOVID\n",
        "                - img1.png\n",
        "                - img2.png\n",
        "                - ......\n",
        "        \"\"\"\n",
        "        self.root_dir = root_dir\n",
        "        self.txt_path = [txt_COVID,txt_NonCOVID]\n",
        "        self.classes = ['CT_COVID', 'CT_NonCOVID']\n",
        "        self.num_cls = len(self.classes)\n",
        "        self.img_list = []\n",
        "        for c in range(self.num_cls):\n",
        "            cls_list = [[os.path.join(self.root_dir,self.classes[c],item), c] for item in read_txt(self.txt_path[c])]\n",
        "            self.img_list += cls_list\n",
        "        self.transform = transform\n",
        "\n",
        "    def __len__(self):\n",
        "        return len(self.img_list)\n",
        "\n",
        "    def __getitem__(self, idx):\n",
        "        if torch.is_tensor(idx):\n",
        "            idx = idx.tolist()\n",
        "\n",
        "        img_path = self.img_list[idx][0]\n",
        "        image = Image.open(img_path).convert('RGB')\n",
        "\n",
        "        if self.transform:\n",
        "            image = self.transform(image)\n",
        "        sample = {'img': image,\n",
        "                  'label': int(self.img_list[idx][1])}\n",
        "        return sample\n",
        "\n",
        "\n",
        "\n",
        "\n",
        "if __name__ == '__main__':\n",
        "    trainset = CovidCTDataset(root_dir='/content/drive/My Drive/intricate-art-neural-transfer-master',\n",
        "                              txt_COVID='/content/drive/My Drive/intricate-art-neural-transfer-master/CT_COVID (1)/trainCT_COVID.txt',\n",
        "                              #new_data/newtxt/train.txt\n",
        "                              txt_NonCOVID='/content/drive/My Drive/intricate-art-neural-transfer-master/CT_NonCOVID (1)/trainCT_NonCOVID.txt',\n",
        "                              #old_data/oldtxt/trainCT_NonCOVID.txt\n",
        "                              transform= train_transformer)\n",
        "    valset = CovidCTDataset(root_dir='/content/drive/My Drive/intricate-art-neural-transfer-master',\n",
        "                              txt_COVID='/content/drive/My Drive/intricate-art-neural-transfer-master/CT_COVID (1)/valCT_COVID.txt',\n",
        "                            #new_data/newtxt/val.txt\n",
        "                              txt_NonCOVID='/content/drive/My Drive/intricate-art-neural-transfer-master/CT_NonCOVID (1)/valCT_NonCOVID.txt',\n",
        "                            #old_data/oldtxt/valCT_NonCOVID.txt\n",
        "                              transform= val_transformer)\n",
        "    testset = CovidCTDataset(root_dir='/content/drive/My Drive/intricate-art-neural-transfer-master',\n",
        "                              txt_COVID='/content/drive/My Drive/intricate-art-neural-transfer-master/CT_COVID (1)/testCT_COVID.txt',\n",
        "                             #new_data/newtxt/test.txt\n",
        "                              txt_NonCOVID='/content/drive/My Drive/intricate-art-neural-transfer-master/CT_NonCOVID (1)/testCT_NonCOVID.txt',\n",
        "                             #old_data/oldtxt/testCT_NonCOVID.txt\n",
        "                              transform= val_transformer)\n",
        "    print(trainset.__len__())\n",
        "    print(valset.__len__())\n",
        "    print(testset.__len__())\n",
        "\n",
        "    train_loader = DataLoader(trainset, batch_size=batchsize, drop_last=False, shuffle=True)\n",
        "    val_loader = DataLoader(valset, batch_size=batchsize, drop_last=False, shuffle=False)\n",
        "    test_loader = DataLoader(testset, batch_size=batchsize, drop_last=False, shuffle=False)\n",
        ""
      ],
      "execution_count": null,
      "outputs": [
        {
          "output_type": "stream",
          "text": [
            "425\n",
            "118\n",
            "203\n"
          ],
          "name": "stdout"
        }
      ]
    },
    {
      "cell_type": "code",
      "metadata": {
        "id": "Ms9B-TiQVAMh",
        "colab": {
          "base_uri": "https://localhost:8080/",
          "height": 315
        },
        "outputId": "be8eab94-9f50-4dfe-da19-70d3a277dfef"
      },
      "source": [
        "for batch_index, batch_samples in enumerate(train_loader):\n",
        "        data, target = batch_samples['img'], batch_samples['label']\n",
        "skimage.io.imshow(data[0,1,:,:].numpy())"
      ],
      "execution_count": null,
      "outputs": [
        {
          "output_type": "execute_result",
          "data": {
            "text/plain": [
              "<matplotlib.image.AxesImage at 0x7f35e7c16358>"
            ]
          },
          "metadata": {
            "tags": []
          },
          "execution_count": 9
        },
        {
          "output_type": "display_data",
          "data": {
            "image/png": "[encoded data removed]",
            "text/plain": [
              "<Figure size 432x288 with 2 Axes>"
            ]
          },
          "metadata": {
            "tags": [],
            "needs_background": "light"
          }
        }
      ]
    },
    {
      "cell_type": "code",
      "metadata": {
        "id": "5vD7SGxjVAMs",
        "outputId": "ee6ec59e-c99d-4730-a7b3-8d8205f38349"
      },
      "source": [
        "# mixup\n",
        "'''Use mixup to do data augmentation'''\n",
        "\n",
        "# def mixup_data(x, y, alpha=1.0, use_cuda=True):\n",
        "#     '''Returns mixed inputs, pairs of targets, and lambda'''\n",
        "#     if alpha > 0:\n",
        "#         lam = np.random.beta(alpha, alpha)\n",
        "# #         print('lam',lam)\n",
        "#     else:\n",
        "#         lam = 1\n",
        "\n",
        "#     batch_size = x.size()[0]\n",
        "#     if use_cuda:\n",
        "#         index = torch.randperm(batch_size).cuda()\n",
        "#     else:\n",
        "#         index = torch.randperm(batch_size)\n",
        "\n",
        "#     mixed_x = lam * x + (1 - lam) * x[index, :]\n",
        "#     y_a, y_b = y, y[index]\n",
        "#     return mixed_x, y_a, y_b, lam\n",
        "\n",
        "# def mixup_criterion(criterion, pred, y_a, y_b, lam):\n",
        "# #     print(pred)\n",
        "# #     print(y_a)\n",
        "# #     print('criterion',criterion(pred, y_a))\n",
        "#     return lam * criterion(pred, y_a) + (1 - lam) * criterion(pred, y_b)"
      ],
      "execution_count": null,
      "outputs": [
        {
          "output_type": "execute_result",
          "data": {
            "text/plain": [
              "'Use mixup to do data augmentation'"
            ]
          },
          "metadata": {
            "tags": []
          },
          "execution_count": 7
        }
      ]
    },
    {
      "cell_type": "code",
      "metadata": {
        "id": "rCwSWepdVAM3"
      },
      "source": [
        "#training process is defined here\n",
        "\n",
        "alpha = None\n",
        "## alpha is None if mixup is not used\n",
        "alpha_name = f'{alpha}'\n",
        "device = 'cuda'\n",
        "\n",
        "def train(optimizer, epoch):\n",
        "\n",
        "    model.train()\n",
        "\n",
        "    train_loss = 0\n",
        "    train_correct = 0\n",
        "\n",
        "    for batch_index, batch_samples in enumerate(train_loader):\n",
        "\n",
        "        # move data to device\n",
        "        data, target = batch_samples['img'].to(device), batch_samples['label'].to(device)\n",
        "\n",
        "        ## adjust data to meet the input dimension of model\n",
        "#         data = data[:, 0, :, :]\n",
        "#         data = data[:, None, :, :]\n",
        "\n",
        "        #mixup\n",
        "#         data, targets_a, targets_b, lam = mixup_data(data, target, alpha, use_cuda=True)\n",
        "\n",
        "\n",
        "        optimizer.zero_grad()\n",
        "        output = model(data)\n",
        "        criteria = nn.CrossEntropyLoss()\n",
        "        loss = criteria(output, target.long())\n",
        "\n",
        "        #mixup loss\n",
        "#         loss = mixup_criterion(criteria, output, targets_a, targets_b, lam)\n",
        "\n",
        "        train_loss += criteria(output, target.long())\n",
        "\n",
        "        optimizer.zero_grad()\n",
        "        loss.backward()\n",
        "        optimizer.step()\n",
        "\n",
        "        pred = output.argmax(dim=1, keepdim=True)\n",
        "        train_correct += pred.eq(target.long().view_as(pred)).sum().item()\n",
        "\n",
        "        # Display progress and write to tensorboard\n",
        "        if batch_index % bs == 0:\n",
        "            print('Train Epoch: {} [{}/{} ({:.0f}%)]\\tTrain Loss: {:.6f}'.format(\n",
        "                epoch, batch_index, len(train_loader),\n",
        "                100.0 * batch_index / len(train_loader), loss.item()/ bs))\n",
        "\n",
        "#     print('\\nTrain set: Average loss: {:.4f}, Accuracy: {}/{} ({:.0f}%)\\n'.format(\n",
        "#         train_loss/len(train_loader.dataset), train_correct, len(train_loader.dataset),\n",
        "#         100.0 * train_correct / len(train_loader.dataset)))\n",
        "#     f = open('model_result/{}.txt'.format(modelname), 'a+')\n",
        "#     f.write('\\nTrain set: Average loss: {:.4f}, Accuracy: {}/{} ({:.0f}%)\\n'.format(\n",
        "#         train_loss/len(train_loader.dataset), train_correct, len(train_loader.dataset),\n",
        "#         100.0 * train_correct / len(train_loader.dataset)))\n",
        "#     f.write('\\n')\n",
        "#     f.close()"
      ],
      "execution_count": null,
      "outputs": []
    },
    {
      "cell_type": "code",
      "metadata": {
        "id": "7Hx4ASJzVANE"
      },
      "source": [
        "#val process is defined here\n",
        "\n",
        "def val(epoch):\n",
        "\n",
        "    model.eval()\n",
        "    test_loss = 0\n",
        "    correct = 0\n",
        "    results = []\n",
        "\n",
        "    TP = 0\n",
        "    TN = 0\n",
        "    FN = 0\n",
        "    FP = 0\n",
        "\n",
        "\n",
        "    criteria = nn.CrossEntropyLoss()\n",
        "    # Don't update model\n",
        "    with torch.no_grad():\n",
        "        tpr_list = []\n",
        "        fpr_list = []\n",
        "\n",
        "        predlist=[]\n",
        "        scorelist=[]\n",
        "        targetlist=[]\n",
        "        # Predict\n",
        "        for batch_index, batch_samples in enumerate(val_loader):\n",
        "            data, target = batch_samples['img'].to(device), batch_samples['label'].to(device)\n",
        "\n",
        "#             data = data[:, 0, :, :]\n",
        "#             data = data[:, None, :, :]\n",
        "            output = model(data)\n",
        "\n",
        "            test_loss += criteria(output, target.long())\n",
        "            score = F.softmax(output, dim=1)\n",
        "            pred = output.argmax(dim=1, keepdim=True)\n",
        "#             print('target',target.long()[:, 2].view_as(pred))\n",
        "            correct += pred.eq(target.long().view_as(pred)).sum().item()\n",
        "\n",
        "#             print(output[:,1].cpu().numpy())\n",
        "#             print((output[:,1]+output[:,0]).cpu().numpy())\n",
        "#             predcpu=(output[:,1].cpu().numpy())/((output[:,1]+output[:,0]).cpu().numpy())\n",
        "            targetcpu=target.long().cpu().numpy()\n",
        "            predlist=np.append(predlist, pred.cpu().numpy())\n",
        "            scorelist=np.append(scorelist, score.cpu().numpy()[:,1])\n",
        "            targetlist=np.append(targetlist,targetcpu)\n",
        "\n",
        "    return targetlist, scorelist, predlist\n",
        "\n",
        "    # Write to tensorboard\n",
        "#     writer.add_scalar('Test Accuracy', 100.0 * correct / len(test_loader.dataset), epoch)"
      ],
      "execution_count": null,
      "outputs": []
    },
    {
      "cell_type": "code",
      "metadata": {
        "id": "o4QeG-AuVANM"
      },
      "source": [
        "#test process is defined here\n",
        "\n",
        "def test(epoch):\n",
        "\n",
        "    model.eval()\n",
        "    test_loss = 0\n",
        "    correct = 0\n",
        "    results = []\n",
        "\n",
        "    TP = 0\n",
        "    TN = 0\n",
        "    FN = 0\n",
        "    FP = 0\n",
        "\n",
        "\n",
        "    criteria = nn.CrossEntropyLoss()\n",
        "    # Don't update model\n",
        "    with torch.no_grad():\n",
        "        tpr_list = []\n",
        "        fpr_list = []\n",
        "\n",
        "        predlist=[]\n",
        "        scorelist=[]\n",
        "        targetlist=[]\n",
        "        # Predict\n",
        "        for batch_index, batch_samples in enumerate(test_loader):\n",
        "            data, target = batch_samples['img'].to(device), batch_samples['label'].to(device)\n",
        "#             data = data[:, 0, :, :]\n",
        "#             data = data[:, None, :, :]\n",
        "#             print(target)\n",
        "            output = model(data)\n",
        "\n",
        "            test_loss += criteria(output, target.long())\n",
        "            score = F.softmax(output, dim=1)\n",
        "            pred = output.argmax(dim=1, keepdim=True)\n",
        "#             print('target',target.long()[:, 2].view_as(pred))\n",
        "            correct += pred.eq(target.long().view_as(pred)).sum().item()\n",
        "#             TP += ((pred == 1) & (target.long()[:, 2].view_as(pred).data == 1)).cpu().sum()\n",
        "#             TN += ((pred == 0) & (target.long()[:, 2].view_as(pred) == 0)).cpu().sum()\n",
        "# #             # FN    predict 0 label 1\n",
        "#             FN += ((pred == 0) & (target.long()[:, 2].view_as(pred) == 1)).cpu().sum()\n",
        "# #             # FP    predict 1 label 0\n",
        "#             FP += ((pred == 1) & (target.long()[:, 2].view_as(pred) == 0)).cpu().sum()\n",
        "#             print(TP,TN,FN,FP)\n",
        "\n",
        "\n",
        "#             print(output[:,1].cpu().numpy())\n",
        "#             print((output[:,1]+output[:,0]).cpu().numpy())\n",
        "#             predcpu=(output[:,1].cpu().numpy())/((output[:,1]+output[:,0]).cpu().numpy())\n",
        "            targetcpu=target.long().cpu().numpy()\n",
        "            predlist=np.append(predlist, pred.cpu().numpy())\n",
        "            scorelist=np.append(scorelist, score.cpu().numpy()[:,1])\n",
        "            targetlist=np.append(targetlist,targetcpu)\n",
        "    return targetlist, scorelist, predlist\n",
        "\n",
        "    # Write to tensorboard\n",
        "#     writer.add_scalar('Test Accuracy', 100.0 * correct / len(test_loader.dataset), epoch)"
      ],
      "execution_count": null,
      "outputs": []
    },
    {
      "cell_type": "code",
      "metadata": {
        "id": "DP6sFwJhVANv",
        "outputId": "bba2cc07-85b8-4530-e7ef-024ef3363a2e"
      },
      "source": [
        "'''CheXNet pretrained model'''\n",
        "\n",
        "# class DenseNet121(nn.Module):\n",
        "#     \"\"\"Model modified.\n",
        "\n",
        "#     The architecture of our model is the same as standard DenseNet121\n",
        "#     except the classifier layer which has an additional sigmoid function.\n",
        "\n",
        "#     \"\"\"\n",
        "#     def __init__(self, out_size):\n",
        "#         super(DenseNet121, self).__init__()\n",
        "#         self.densenet121 = torchvision.models.densenet121(pretrained=True)\n",
        "#         num_ftrs = self.densenet121.classifier.in_features\n",
        "#         self.densenet121.classifier = nn.Sequential(\n",
        "#             nn.Linear(num_ftrs, out_size),\n",
        "#             nn.Sigmoid()\n",
        "#         )\n",
        "\n",
        "#     def forward(self, x):\n",
        "#         x = self.densenet121(x)\n",
        "#         return x\n",
        "\n",
        "\n",
        "# device = 'cuda'\n",
        "# CKPT_PATH = 'model.pth.tar'\n",
        "# N_CLASSES = 14\n",
        "\n",
        "# DenseNet121 = DenseNet121(N_CLASSES).cuda()\n",
        "\n",
        "# CKPT_PATH = './CheXNet/model.pth.tar'\n",
        "\n",
        "# if os.path.isfile(CKPT_PATH):\n",
        "#     checkpoint = torch.load(CKPT_PATH)\n",
        "#     state_dict = checkpoint['state_dict']\n",
        "#     remove_data_parallel = False\n",
        "\n",
        "\n",
        "#     pattern = re.compile(\n",
        "#         r'^(.*denselayer\\d+\\.(?:norm|relu|conv))\\.((?:[12])\\.(?:weight|bias|running_mean|running_var))$')\n",
        "#     for key in list(state_dict.keys()):\n",
        "#         match = pattern.match(key)\n",
        "#         new_key = match.group(1) + match.group(2) if match else key\n",
        "#         new_key = new_key[7:] if remove_data_parallel else new_key\n",
        "#         new_key = new_key[7:]\n",
        "#         state_dict[new_key] = state_dict[key]\n",
        "#         del state_dict[key]\n",
        "\n",
        "\n",
        "#     DenseNet121.load_state_dict(checkpoint['state_dict'])\n",
        "#     print(\"=> loaded checkpoint\")\n",
        "# #     print(densenet121)\n",
        "# else:\n",
        "#     print(\"=> no checkpoint found\")\n",
        "\n",
        "# # for parma in DenseNet121.parameters():\n",
        "# #         parma.requires_grad = False\n",
        "# DenseNet121.densenet121.classifier._modules['0'] = nn.Linear(in_features=1024, out_features=2, bias=True)\n",
        "# DenseNet121.densenet121.features.conv0 = nn.Conv2d(1, 64, kernel_size=(7, 7), stride=(2, 2), padding=(3, 3), bias=False)\n",
        "# # print(DenseNet121)\n",
        "# model = DenseNet121.to(device)"
      ],
      "execution_count": null,
      "outputs": [
        {
          "output_type": "execute_result",
          "data": {
            "text/plain": [
              "'CheXNet pretrained model'"
            ]
          },
          "metadata": {
            "tags": []
          },
          "execution_count": 23
        }
      ]
    },
    {
      "cell_type": "code",
      "metadata": {
        "id": "-ZyaJAWRVAN1"
      },
      "source": [
        "'''DenseNet121 pretrained model from xrv'''\n",
        "\n",
        "class DenseNetModel(nn.Module):\n",
        "\n",
        "     def __init__(self):\n",
        "         \"\"\"\n",
        "         Pass in parsed HyperOptArgumentParser to the model\n",
        "         :param hparams:\n",
        "         \"\"\"\n",
        "         super(DenseNetModel, self).__init__()\n",
        "\n",
        "         self.dense_net = xrv.models.DenseNet(num_classes=2)\n",
        "         self.criterion = nn.CrossEntropyLoss()\n",
        "\n",
        "     def forward(self, x):\n",
        "         logits = self.dense_net(x)\n",
        "         return logits\n",
        "\n",
        "model = DenseNetModel().cuda()\n",
        "modelname = 'DenseNet_medical'\n",
        "print(model)"
      ],
      "execution_count": null,
      "outputs": []
    },
    {
      "cell_type": "code",
      "metadata": {
        "id": "CgFI0LwNVAOF",
        "outputId": "6a72363a-067b-40f9-c9b2-558ac9e52156"
      },
      "source": [
        "'''ResNet18 pretrained'''\n",
        "# import torchvision.models as models\n",
        "# model = models.resnet18(pretrained=True).cuda()\n",
        "# modelname = 'ResNet18'"
      ],
      "execution_count": null,
      "outputs": [
        {
          "output_type": "execute_result",
          "data": {
            "text/plain": [
              "'ResNet18 pretrained'"
            ]
          },
          "metadata": {
            "tags": []
          },
          "execution_count": 25
        }
      ]
    },
    {
      "cell_type": "code",
      "metadata": {
        "id": "_W54_KcMVAOT",
        "colab": {
          "base_uri": "https://localhost:8080/",
          "height": 239
        },
        "outputId": "6fec6ce3-ccd2-461d-e96b-32ddd2c8b626"
      },
      "source": [
        "'''Dense121 pretrained'''\n",
        "# import torchvision.models as models\n",
        "model = models.densenet121(pretrained=True).cuda()\n",
        "modelname = 'Dense121'\n",
        "pretrained_net = torch.load('model_backup/Dense121.pt')\n",
        "model.load_state_dict(pretrained_net)"
      ],
      "execution_count": null,
      "outputs": [
        {
          "output_type": "error",
          "ename": "NameError",
          "evalue": "ignored",
          "traceback": [
            "\u001b[0;31m---------------------------------------------------------------------------\u001b[0m",
            "\u001b[0;31mNameError\u001b[0m                                 Traceback (most recent call last)",
            "\u001b[0;32m<ipython-input-45-d605a0e60be2>\u001b[0m in \u001b[0;36m<module>\u001b[0;34m()\u001b[0m\n\u001b[1;32m      1\u001b[0m \u001b[0;34m'''Dense121 pretrained'''\u001b[0m\u001b[0;34m\u001b[0m\u001b[0;34m\u001b[0m\u001b[0m\n\u001b[1;32m      2\u001b[0m \u001b[0;31m# import torchvision.models as models\u001b[0m\u001b[0;34m\u001b[0m\u001b[0;34m\u001b[0m\u001b[0;34m\u001b[0m\u001b[0m\n\u001b[0;32m----> 3\u001b[0;31m \u001b[0mmodel\u001b[0m \u001b[0;34m=\u001b[0m \u001b[0mmodels\u001b[0m\u001b[0;34m.\u001b[0m\u001b[0mdensenet121\u001b[0m\u001b[0;34m(\u001b[0m\u001b[0mpretrained\u001b[0m\u001b[0;34m=\u001b[0m\u001b[0;32mTrue\u001b[0m\u001b[0;34m)\u001b[0m\u001b[0;34m.\u001b[0m\u001b[0mcuda\u001b[0m\u001b[0;34m(\u001b[0m\u001b[0;34m)\u001b[0m\u001b[0;34m\u001b[0m\u001b[0;34m\u001b[0m\u001b[0m\n\u001b[0m\u001b[1;32m      4\u001b[0m \u001b[0mmodelname\u001b[0m \u001b[0;34m=\u001b[0m \u001b[0;34m'Dense121'\u001b[0m\u001b[0;34m\u001b[0m\u001b[0;34m\u001b[0m\u001b[0m\n\u001b[1;32m      5\u001b[0m \u001b[0mpretrained_net\u001b[0m \u001b[0;34m=\u001b[0m \u001b[0mtorch\u001b[0m\u001b[0;34m.\u001b[0m\u001b[0mload\u001b[0m\u001b[0;34m(\u001b[0m\u001b[0;34m'model_backup/Dense121.pt'\u001b[0m\u001b[0;34m)\u001b[0m\u001b[0;34m\u001b[0m\u001b[0;34m\u001b[0m\u001b[0m\n",
            "\u001b[0;31mNameError\u001b[0m: name 'models' is not defined"
          ]
        }
      ]
    },
    {
      "cell_type": "code",
      "metadata": {
        "id": "pXU7nloIVAOr"
      },
      "source": [
        "### Dense169\n",
        " #import torchvision.models as models\n",
        "# model = models.densenet169(pretrained=True).cuda()\n",
        "# # # modelname = 'Dense169'\n",
        "\n",
        "# \"\"\"load MoCo pretrained model\"\"\"\n",
        "# checkpoint = torch.load('new_data/save_model_dense/checkpoint_luna_covid_moco.pth.tar')\n",
        "# # # # print(checkpoint.keys())\n",
        "# # # # print(checkpoint['arch'])\n",
        "\n",
        "# state_dict = checkpoint['state_dict']\n",
        "# for key in list(state_dict.keys()):\n",
        "#     if 'module.encoder_q' in key:\n",
        "# #         print(key[17:])\n",
        "#         new_key = key[17:]\n",
        "#         state_dict[new_key] = state_dict[key]\n",
        "#     del state_dict[key]\n",
        "# for key in list(state_dict.keys()):\n",
        "#     if  key == 'classifier.0.weight':\n",
        "#         new_key = 'classifier.weight'\n",
        "#         state_dict[new_key] = state_dict[key]\n",
        "#         del state_dict[key]\n",
        "#     if  key == 'classifier.0.bias':\n",
        "#         new_key = 'classifier.bias'\n",
        "#         state_dict[new_key] = state_dict[key]\n",
        "#         del state_dict[key]\n",
        "#     if  key == 'classifier.2.weight' or key == 'classifier.2.bias':\n",
        "#         del state_dict[key]\n",
        "# state_dict['classifier.weight'] = state_dict['classifier.weight'][:1000,:]\n",
        "# state_dict['classifier.bias'] = state_dict['classifier.bias'][:1000]\n",
        "# model.load_state_dict(checkpoint['state_dict'])\n",
        "\n",
        "# # # print(model)"
      ],
      "execution_count": null,
      "outputs": []
    },
    {
      "cell_type": "code",
      "metadata": {
        "id": "xYegeb88VAOx",
        "colab": {
          "base_uri": "https://localhost:8080/",
          "height": 239
        },
        "outputId": "cccbe949-f336-4e46-9c04-aff11eb02d32"
      },
      "source": [
        "\"\"\"Load Self-Trans model\"\"\"\n",
        "\"\"\"Change names and locations to the Self-Trans.pt\"\"\"\n",
        "\n",
        "\n",
        "model = models.densenet169(pretrained=True).cuda()\n",
        "# pretrained_net = torch.load('model_backup/Dense169.pt')\n",
        "# pretrained_net = torch.load('model_backup/mixup/Dense169_0.6.pt')\n",
        "pretrained_net = torch.load('model_backup/medical_transfer/medical_transfer_None_LUNA_moco_covid_moco.pt')\n",
        "\n",
        "\n",
        "model.load_state_dict(pretrained_net)\n",
        "\n",
        "modelname = 'Dense169_ssl_luna_moco'"
      ],
      "execution_count": null,
      "outputs": [
        {
          "output_type": "error",
          "ename": "NameError",
          "evalue": "ignored",
          "traceback": [
            "\u001b[0;31m---------------------------------------------------------------------------\u001b[0m",
            "\u001b[0;31mNameError\u001b[0m                                 Traceback (most recent call last)",
            "\u001b[0;32m<ipython-input-46-540480d8ec45>\u001b[0m in \u001b[0;36m<module>\u001b[0;34m()\u001b[0m\n\u001b[1;32m      3\u001b[0m \u001b[0;34m\u001b[0m\u001b[0m\n\u001b[1;32m      4\u001b[0m \u001b[0;34m\u001b[0m\u001b[0m\n\u001b[0;32m----> 5\u001b[0;31m \u001b[0mmodel\u001b[0m \u001b[0;34m=\u001b[0m \u001b[0mmodels\u001b[0m\u001b[0;34m.\u001b[0m\u001b[0mdensenet169\u001b[0m\u001b[0;34m(\u001b[0m\u001b[0mpretrained\u001b[0m\u001b[0;34m=\u001b[0m\u001b[0;32mTrue\u001b[0m\u001b[0;34m)\u001b[0m\u001b[0;34m.\u001b[0m\u001b[0mcuda\u001b[0m\u001b[0;34m(\u001b[0m\u001b[0;34m)\u001b[0m\u001b[0;34m\u001b[0m\u001b[0;34m\u001b[0m\u001b[0m\n\u001b[0m\u001b[1;32m      6\u001b[0m \u001b[0;31m# pretrained_net = torch.load('model_backup/Dense169.pt')\u001b[0m\u001b[0;34m\u001b[0m\u001b[0;34m\u001b[0m\u001b[0;34m\u001b[0m\u001b[0m\n\u001b[1;32m      7\u001b[0m \u001b[0;31m# pretrained_net = torch.load('model_backup/mixup/Dense169_0.6.pt')\u001b[0m\u001b[0;34m\u001b[0m\u001b[0;34m\u001b[0m\u001b[0;34m\u001b[0m\u001b[0m\n",
            "\u001b[0;31mNameError\u001b[0m: name 'models' is not defined"
          ]
        }
      ]
    },
    {
      "cell_type": "code",
      "metadata": {
        "id": "rU9Qu7FHVAO6",
        "outputId": "26b117b8-2b18-42d1-9fbb-6c9421d4452d"
      },
      "source": [
        "'''ResNet50 pretrained'''\n",
        "\n",
        "# import torchvision.models as models\n",
        "# model = models.resnet50(pretrained=True).cuda()\n",
        "\n",
        "# checkpoint = torch.load('new_data/save_model/checkpoint.pth.tar')\n",
        "# # print(checkpoint.keys())\n",
        "# # print(checkpoint['arch'])\n",
        "\n",
        "# state_dict = checkpoint['state_dict']\n",
        "# for key in list(state_dict.keys()):\n",
        "#     if 'module.encoder_q' in key:\n",
        "#         print(key[17:])\n",
        "#         new_key = key[17:]\n",
        "#         state_dict[new_key] = state_dict[key]\n",
        "#     del state_dict[key]\n",
        "# for key in list(state_dict.keys()):\n",
        "#     if  key == 'fc.0.weight':\n",
        "#         new_key = 'fc.weight'\n",
        "#         state_dict[new_key] = state_dict[key]\n",
        "#         del state_dict[key]\n",
        "#     if  key == 'fc.0.bias':\n",
        "#         new_key = 'fc.bias'\n",
        "#         state_dict[new_key] = state_dict[key]\n",
        "#         del state_dict[key]\n",
        "#     if  key == 'fc.2.weight' or key == 'fc.2.bias':\n",
        "#         del state_dict[key]\n",
        "# state_dict['fc.weight'] = state_dict['fc.weight'][:1000,:]\n",
        "# state_dict['fc.bias'] = state_dict['fc.bias'][:1000]\n",
        "# # print(state_dict.keys())\n",
        "\n",
        "# # print(state_dict)\n",
        "# # pattern = re.compile(\n",
        "# #         r'^(.*denselayer\\d+\\.(?:norm|relu|conv))\\.((?:[12])\\.(?:weight|bias|running_mean|running_var))$')\n",
        "# #     for key in list(state_dict.keys()):\n",
        "# #         match = pattern.match(key)\n",
        "# #         new_key = match.group(1) + match.group(2) if match else key\n",
        "# #         new_key = new_key[7:] if remove_data_parallel else new_key\n",
        "# #         new_key = new_key[7:]\n",
        "# #         state_dict[new_key] = state_dict[key]\n",
        "# #         del state_dict[key]\n",
        "\n",
        "# # model.load_state_dict(checkpoint['state_dict'])\n",
        "\n",
        "# # # modelname = 'ResNet50'\n",
        "# modelname = 'ResNet50_ssl'"
      ],
      "execution_count": null,
      "outputs": [
        {
          "output_type": "execute_result",
          "data": {
            "text/plain": [
              "'ResNet50 pretrained'"
            ]
          },
          "metadata": {
            "tags": []
          },
          "execution_count": 31
        }
      ]
    },
    {
      "cell_type": "code",
      "metadata": {
        "id": "yT2QVzVjVAO_",
        "outputId": "5e43495c-fbfb-4730-ec19-85251c9ca6d2"
      },
      "source": [
        "'''VGGNet pretrained'''\n",
        "# import torchvision.models as models\n",
        "# model = models.vgg16(pretrained=True)\n",
        "# model = model.cuda()\n",
        "# modelname = 'vgg16'"
      ],
      "execution_count": null,
      "outputs": [
        {
          "output_type": "execute_result",
          "data": {
            "text/plain": [
              "'VGGNet pretrained'"
            ]
          },
          "metadata": {
            "tags": []
          },
          "execution_count": 32
        }
      ]
    },
    {
      "cell_type": "code",
      "metadata": {
        "id": "8HSi0FyqVAPI",
        "outputId": "445c2b18-3d75-4177-f70b-9f9e6218d41d"
      },
      "source": [
        "'''efficientNet pretrained'''\n",
        "\n",
        "# from efficientnet_pytorch import EfficientNet\n",
        "# model = EfficientNet.from_pretrained('efficientnet-b0', num_classes=2)\n",
        "# model = model.cuda()\n",
        "# modelname = 'efficientNet-b0'\n",
        "\n",
        "\n",
        "# model = EfficientNet.from_name('efficientnet-b1').cuda()\n",
        "# modelname = 'efficientNet_random'"
      ],
      "execution_count": null,
      "outputs": [
        {
          "output_type": "execute_result",
          "data": {
            "text/plain": [
              "'efficientNet pretrained'"
            ]
          },
          "metadata": {
            "tags": []
          },
          "execution_count": 33
        }
      ]
    },
    {
      "cell_type": "code",
      "metadata": {
        "id": "9p5fDu9LVAPT"
      },
      "source": [],
      "execution_count": null,
      "outputs": []
    },
    {
      "cell_type": "code",
      "metadata": {
        "id": "ijzRZ5KQVAPY"
      },
      "source": [
        "# train\n",
        "bs =batchsize\n",
        "votenum = 10\n",
        "import warnings\n",
        "warnings.filterwarnings('ignore')\n",
        "\n",
        "r_list = []\n",
        "p_list = []\n",
        "acc_list = []\n",
        "AUC_list = []\n",
        "# TP = 0\n",
        "# TN = 0\n",
        "# FN = 0\n",
        "# FP = 0\n",
        "vote_pred = np.zeros(valset.__len__())\n",
        "vote_score = np.zeros(valset.__len__())\n",
        "\n",
        "#optimizer = optim.SGD(model.parameters(), lr=0.001, momentum = 0.9)\n",
        "optimizer = optim.Adam(model.parameters(), lr=0.0001)\n",
        "scheduler = optim.lr_scheduler.CosineAnnealingLR(optimizer, T_max=10)\n",
        "\n",
        "# scheduler = optim.lr_scheduler.ExponentialLR(optimizer, gamma = 0.95)\n",
        "\n",
        "scheduler = StepLR(optimizer, step_size=1)\n",
        "\n",
        "total_epoch = 3000\n",
        "for epoch in range(1, total_epoch+1):\n",
        "    train(optimizer, epoch)\n",
        "\n",
        "    targetlist, scorelist, predlist = val(epoch)\n",
        "    print('target',targetlist)\n",
        "    print('score',scorelist)\n",
        "    print('predict',predlist)\n",
        "    vote_pred = vote_pred + predlist\n",
        "    vote_score = vote_score + scorelist\n",
        "\n",
        "    if epoch % votenum == 0:\n",
        "\n",
        "        # major vote\n",
        "        vote_pred[vote_pred <= (votenum/2)] = 0\n",
        "        vote_pred[vote_pred > (votenum/2)] = 1\n",
        "        vote_score = vote_score/votenum\n",
        "\n",
        "        print('vote_pred', vote_pred)\n",
        "        print('targetlist', targetlist)\n",
        "        TP = ((vote_pred == 1) & (targetlist == 1)).sum()\n",
        "        TN = ((vote_pred == 0) & (targetlist == 0)).sum()\n",
        "        FN = ((vote_pred == 0) & (targetlist == 1)).sum()\n",
        "        FP = ((vote_pred == 1) & (targetlist == 0)).sum()\n",
        "\n",
        "\n",
        "        print('TP=',TP,'TN=',TN,'FN=',FN,'FP=',FP)\n",
        "        print('TP+FP',TP+FP)\n",
        "        p = TP / (TP + FP)\n",
        "        print('precision',p)\n",
        "        p = TP / (TP + FP)\n",
        "        r = TP / (TP + FN)\n",
        "        print('recall',r)\n",
        "        F1 = 2 * r * p / (r + p)\n",
        "        acc = (TP + TN) / (TP + TN + FP + FN)\n",
        "        print('F1',F1)\n",
        "        print('acc',acc)\n",
        "        AUC = roc_auc_score(targetlist, vote_score)\n",
        "        print('AUCp', roc_auc_score(targetlist, vote_pred))\n",
        "        print('AUC', AUC)\n",
        "\n",
        "\n",
        "\n",
        "#         if epoch == total_epoch:\n",
        "        torch.save(model.state_dict(), \"model_backup/medical_transfer/{}_{}_covid_moco_covid.pt\".format(modelname,alpha_name))\n",
        "\n",
        "        vote_pred = np.zeros(valset.__len__())\n",
        "        vote_score = np.zeros(valset.__len__())\n",
        "        print('\\n The epoch is {}, average recall: {:.4f}, average precision: {:.4f},\\\n",
        "average F1: {:.4f}, average accuracy: {:.4f}, average AUC: {:.4f}'.format(\n",
        "        epoch, r, p, F1, acc, AUC))\n",
        "\n",
        "#         f = open('model_result/medical_transfer/{}_{}.txt'.format(modelname,alpha_name), 'a+')\n",
        "#         f.write('\\n The epoch is {}, average recall: {:.4f}, average precision: {:.4f},\\\n",
        "# average F1: {:.4f}, average accuracy: {:.4f}, average AUC: {:.4f}'.format(\n",
        "#         epoch, r, p, F1, acc, AUC))\n",
        "#         f.close()\n",
        "\n"
      ],
      "execution_count": null,
      "outputs": []
    },
    {
      "cell_type": "code",
      "metadata": {
        "id": "5JeoaNquVAPe",
        "outputId": "50d7f493-c669-4681-b866-791521b4a0f0"
      },
      "source": [
        "# test\n",
        "bs = 10\n",
        "import warnings\n",
        "warnings.filterwarnings('ignore')\n",
        "\n",
        "epoch = 1\n",
        "r_list = []\n",
        "p_list = []\n",
        "acc_list = []\n",
        "AUC_list = []\n",
        "# TP = 0\n",
        "# TN = 0\n",
        "# FN = 0\n",
        "# FP = 0\n",
        "vote_pred = np.zeros(testset.__len__())\n",
        "vote_score = np.zeros(testset.__len__())\n",
        "\n",
        "\n",
        "targetlist, scorelist, predlist = test(epoch)\n",
        "print('target',targetlist)\n",
        "print('score',scorelist)\n",
        "print('predict',predlist)\n",
        "vote_pred = vote_pred + predlist\n",
        "vote_score = vote_score + scorelist\n",
        "\n",
        "TP = ((predlist == 1) & (targetlist == 1)).sum()\n",
        "\n",
        "TN = ((predlist == 0) & (targetlist == 0)).sum()\n",
        "FN = ((predlist == 0) & (targetlist == 1)).sum()\n",
        "FP = ((predlist == 1) & (targetlist == 0)).sum()\n",
        "\n",
        "print('TP=',TP,'TN=',TN,'FN=',FN,'FP=',FP)\n",
        "print('TP+FP',TP+FP)\n",
        "p = TP / (TP + FP)\n",
        "print('precision',p)\n",
        "p = TP / (TP + FP)\n",
        "r = TP / (TP + FN)\n",
        "print('recall',r)\n",
        "F1 = 2 * r * p / (r + p)\n",
        "acc = (TP + TN) / (TP + TN + FP + FN)\n",
        "print('F1',F1)\n",
        "print('acc',acc)\n",
        "AUC = roc_auc_score(targetlist, vote_score)\n",
        "print('AUC', AUC)\n",
        "\n",
        "# f = open(f'model_result/medical_transfer/test_{modelname}_{alpha_name}_LUNA_moco_CT_moco.txt', 'a+')\n",
        "# f.write('\\n The epoch is {}, average recall: {:.4f}, average precision: {:.4f},\\\n",
        "# average F1: {:.4f}, average accuracy: {:.4f}, average AUC: {:.4f}'.format(\n",
        "# epoch, r, p, F1, acc, AUC))\n",
        "# f.close()\n",
        "# torch.save(model.state_dict(), \"model_backup/medical_transfer/{}_{}_covid_moco_covid.pt\".format(modelname,alpha_name))\n"
      ],
      "execution_count": null,
      "outputs": [
        {
          "output_type": "stream",
          "text": [
            "target [0. 0. 0. 0. 0. 0. 0. 0. 0. 0. 0. 0. 0. 0. 0. 0. 0. 0. 0. 0. 0. 0. 0. 0.\n",
            " 0. 0. 0. 0. 0. 0. 0. 0. 0. 0. 0. 0. 0. 0. 0. 0. 0. 0. 0. 0. 0. 0. 0. 0.\n",
            " 0. 0. 0. 0. 0. 0. 0. 0. 0. 0. 0. 0. 0. 0. 0. 0. 0. 0. 0. 0. 0. 0. 0. 0.\n",
            " 0. 0. 0. 0. 0. 0. 0. 0. 0. 0. 0. 0. 0. 0. 0. 0. 0. 0. 0. 0. 0. 0. 0. 0.\n",
            " 0. 0. 1. 1. 1. 1. 1. 1. 1. 1. 1. 1. 1. 1. 1. 1. 1. 1. 1. 1. 1. 1. 1. 1.\n",
            " 1. 1. 1. 1. 1. 1. 1. 1. 1. 1. 1. 1. 1. 1. 1. 1. 1. 1. 1. 1. 1. 1. 1. 1.\n",
            " 1. 1. 1. 1. 1. 1. 1. 1. 1. 1. 1. 1. 1. 1. 1. 1. 1. 1. 1. 1. 1. 1. 1. 1.\n",
            " 1. 1. 1. 1. 1. 1. 1. 1. 1. 1. 1. 1. 1. 1. 1. 1. 1. 1. 1. 1. 1. 1. 1. 1.\n",
            " 1. 1. 1. 1. 1. 1. 1. 1. 1. 1. 1.]\n",
            "score [0.18472463 0.7080819  0.04646989 0.26989901 0.05336552 0.02941776\n",
            " 0.02414094 0.59810859 0.36526236 0.43600336 0.84035647 0.50134546\n",
            " 0.13279232 0.48939028 0.43319929 0.49961865 0.17637068 0.1743184\n",
            " 0.1379282  0.22343108 0.15364197 0.26578826 0.08987657 0.08548938\n",
            " 0.13834617 0.26181701 0.16527651 0.12452679 0.09285551 0.06519937\n",
            " 0.02540484 0.1521637  0.09292986 0.09328043 0.18752721 0.01757409\n",
            " 0.01857498 0.16377242 0.11410333 0.08593781 0.06713454 0.08446354\n",
            " 0.0288494  0.00759464 0.02543017 0.03660502 0.05383571 0.04784742\n",
            " 0.18882698 0.0796678  0.03015771 0.02215345 0.01991897 0.05025224\n",
            " 0.02855552 0.05067736 0.03257647 0.03945154 0.50614041 0.51887828\n",
            " 0.03672059 0.17068593 0.11241454 0.01326641 0.02701492 0.01918492\n",
            " 0.01508398 0.01125941 0.14113669 0.43184683 0.02410222 0.12067236\n",
            " 0.14536019 0.14333451 0.06022606 0.03822284 0.06638835 0.26528627\n",
            " 0.18751624 0.26631293 0.0910058  0.06418723 0.05067747 0.40527153\n",
            " 0.14847529 0.14562836 0.62502611 0.26937214 0.20492083 0.02167032\n",
            " 0.01233351 0.39835405 0.39835405 0.44870549 0.36261582 0.27295125\n",
            " 0.03481675 0.02608865 0.7469902  0.96365201 0.97239608 0.97295445\n",
            " 0.94694215 0.29483157 0.8365559  0.89235735 0.83816856 0.8003186\n",
            " 0.73322117 0.80842352 0.9349007  0.94661468 0.90385747 0.98361892\n",
            " 0.95067555 0.9688676  0.87184894 0.93891484 0.94897074 0.94159156\n",
            " 0.94720417 0.96932942 0.90921307 0.9245317  0.87571555 0.74549299\n",
            " 0.97242606 0.92971849 0.94252813 0.95168358 0.97052461 0.94881791\n",
            " 0.96103001 0.97114146 0.97738838 0.93262112 0.95087039 0.86859626\n",
            " 0.88687629 0.87168676 0.92927217 0.93022364 0.92179191 0.74794883\n",
            " 0.78677642 0.84261686 0.96638405 0.87151533 0.34192163 0.98167437\n",
            " 0.7883848  0.2751804  0.61639184 0.35784477 0.65398043 0.96516865\n",
            " 0.91899365 0.89474875 0.75960374 0.5973025  0.38631624 0.42716938\n",
            " 0.80536425 0.59016609 0.32063729 0.34716442 0.80393064 0.80396241\n",
            " 0.55484045 0.28483564 0.10326744 0.16273814 0.10036226 0.55026394\n",
            " 0.40984252 0.79023618 0.56956863 0.63247573 0.75678682 0.14168021\n",
            " 0.17582782 0.39219606 0.31355315 0.72868532 0.79172206 0.47840616\n",
            " 0.69670403 0.76267093 0.2288982  0.22823456 0.59667367 0.78086239\n",
            " 0.66044873 0.87798405 0.79411525 0.65152603 0.95605266 0.7490173\n",
            " 0.83923143 0.83308858 0.27908263 0.13174789 0.5773201 ]\n",
            "predict [0. 1. 0. 0. 0. 0. 0. 1. 0. 0. 1. 1. 0. 0. 0. 0. 0. 0. 0. 0. 0. 0. 0. 0.\n",
            " 0. 0. 0. 0. 0. 0. 0. 0. 0. 0. 0. 0. 0. 0. 0. 0. 0. 0. 0. 0. 0. 0. 0. 0.\n",
            " 0. 0. 0. 0. 0. 0. 0. 0. 0. 0. 1. 1. 0. 0. 0. 0. 0. 0. 0. 0. 0. 0. 0. 0.\n",
            " 0. 0. 0. 0. 0. 0. 0. 0. 0. 0. 0. 0. 0. 0. 1. 0. 0. 0. 0. 0. 0. 0. 0. 0.\n",
            " 0. 0. 1. 1. 1. 1. 1. 0. 1. 1. 1. 1. 1. 1. 1. 1. 1. 1. 1. 1. 1. 1. 1. 1.\n",
            " 1. 1. 1. 1. 1. 1. 1. 1. 1. 1. 1. 1. 1. 1. 1. 1. 1. 1. 1. 1. 1. 1. 1. 1.\n",
            " 1. 1. 1. 1. 0. 1. 1. 0. 1. 0. 1. 1. 1. 1. 1. 1. 0. 0. 1. 1. 0. 0. 1. 1.\n",
            " 1. 0. 0. 0. 0. 1. 0. 1. 1. 1. 1. 0. 0. 0. 0. 1. 1. 0. 1. 1. 0. 0. 1. 1.\n",
            " 1. 1. 1. 1. 1. 1. 1. 1. 0. 0. 1.]\n",
            "TP= 83 TN= 91 FN= 22 FP= 7\n",
            "TP+FP 90\n",
            "precision 0.9222222222222223\n",
            "recall 0.7904761904761904\n",
            "F1 0.8512820512820511\n",
            "acc 0.8571428571428571\n",
            "AUC 0.9416909620991254\n"
          ],
          "name": "stdout"
        }
      ]
    },
    {
      "cell_type": "code",
      "metadata": {
        "id": "FeY_0ThPVAPl"
      },
      "source": [],
      "execution_count": null,
      "outputs": []
    },
    {
      "cell_type": "code",
      "metadata": {
        "id": "nqjVxUwlVAPs"
      },
      "source": [],
      "execution_count": null,
      "outputs": []
    },
    {
      "cell_type": "code",
      "metadata": {
        "id": "PvgPgZRpeGG5"
      },
      "source": [],
      "execution_count": null,
      "outputs": []
    }
  ]
}